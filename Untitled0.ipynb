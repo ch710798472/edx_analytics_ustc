{
 "metadata": {
  "name": ""
 },
 "nbformat": 3,
 "nbformat_minor": 0,
 "worksheets": [
  {
   "cells": [
    {
     "cell_type": "code",
     "collapsed": false,
     "input": [
      "import requests\n",
      "import json\n",
      "from github import Github\n",
      "import networkx as nx\n",
      "from operator import itemgetter\n",
      "from collections import Counter\n",
      "from networkx.readwrite import json_graph\n",
      "import webbrowser\n",
      "import os"
     ],
     "language": "python",
     "metadata": {},
     "outputs": [],
     "prompt_number": 1
    },
    {
     "cell_type": "code",
     "collapsed": false,
     "input": [
      " ACCESS_TOKEN = '1161b718b9555cd76bf7ff9070c8f1ba300ea885'\n",
      "USER = 'edx'\n",
      "REPO = 'edx-documentation'\n",
      "client = Github(ACCESS_TOKEN, per_page=100)\n",
      "user = client.get_user(USER)\n",
      "repo = user.get_repo(REPO)\n",
      "\n",
      "stargazers = [ s for s in repo.get_stargazers() ] #\u53ef\u4ee5\u5148\u5bf9\u8fd9\u4e9b\u4eba\u6570\u8fdb\u884c\u5206\u7c7b>\u9650\u5236\n",
      "print \"\u5173\u6ce8\u4eba\u7684\u6570\u76ee: %d \\n\" % len(stargazers) #\u5982\u679c\u4eba\u6570\u5f88\u591a\uff0c\u901f\u5ea6\u5f88\u6162"
     ],
     "language": "python",
     "metadata": {},
     "outputs": [
      {
       "output_type": "stream",
       "stream": "stdout",
       "text": [
        "\u5173\u6ce8\u4eba\u7684\u6570\u76ee: 29 \n",
        "\n"
       ]
      }
     ],
     "prompt_number": 4
    },
    {
     "cell_type": "code",
     "collapsed": false,
     "input": [
      "for s in repo.get_forks():\n",
      "    print s.get_"
     ],
     "language": "python",
     "metadata": {},
     "outputs": [
      {
       "ename": "AttributeError",
       "evalue": "'Repository' object has no attribute 'user'",
       "output_type": "pyerr",
       "traceback": [
        "\u001b[0;31m---------------------------------------------------------------------------\u001b[0m\n\u001b[0;31mAttributeError\u001b[0m                            Traceback (most recent call last)",
        "\u001b[0;32m<ipython-input-10-4e63fd4c9188>\u001b[0m in \u001b[0;36m<module>\u001b[0;34m()\u001b[0m\n\u001b[1;32m      1\u001b[0m \u001b[0;32mfor\u001b[0m \u001b[0ms\u001b[0m \u001b[0;32min\u001b[0m \u001b[0mrepo\u001b[0m\u001b[0;34m.\u001b[0m\u001b[0mget_forks\u001b[0m\u001b[0;34m(\u001b[0m\u001b[0;34m)\u001b[0m\u001b[0;34m:\u001b[0m\u001b[0;34m\u001b[0m\u001b[0m\n\u001b[0;32m----> 2\u001b[0;31m     \u001b[0;32mprint\u001b[0m \u001b[0ms\u001b[0m\u001b[0;34m.\u001b[0m\u001b[0muser\u001b[0m\u001b[0;34m\u001b[0m\u001b[0m\n\u001b[0m",
        "\u001b[0;31mAttributeError\u001b[0m: 'Repository' object has no attribute 'user'"
       ]
      }
     ],
     "prompt_number": 10
    },
    {
     "cell_type": "code",
     "collapsed": false,
     "input": [
      "    g = nx.DiGraph()\n",
      "    g.add_node(repo.name + '(r)', type='repo', lang=repo.language, owner=user.login)\n",
      "\n",
      "    for sg in stargazers:\n",
      "        g.add_node(sg.login + '(u)', type='user')\n",
      "        g.add_edge(sg.login + '(u)', repo.name + '(r)', type='gazes')\n",
      "        print sg.login + '(u)'\n",
      "\n",
      "    for i, sg in enumerate(stargazers):\n",
      "        try:\n",
      "            for follower in sg.get_followers():\n",
      "                if follower.login + '(u)' in g:\n",
      "                    g.add_edge(follower.login + '(u)', sg.login + '(u)', type='follows')\n",
      "        except Exception, e:\n",
      "            print \"\u83b7\u53d6\u8ffd\u968f\u8005\u5931\u8d25\uff0c\u8df3\u8fc7\", sg.login, e\n",
      "\n",
      "        print \"\u6b63\u5728\u5904\u7406\u7b2c\", i+1, \" \u4e2a\u5173\u6ce8\u8005\u3002\"\n",
      "    c = Counter([e[1] for e in g.edges_iter(data=True) if e[2]['type'] == 'follows'])\n",
      "    popular_users = [(u, f) for (u, f) in c.most_common() if f > 1]\n",
      "    print \"\u53d7\u6b22\u8fce\u7684\u7528\u6237\u6570\u76ee\uff1a\", len(popular_users)\n",
      "    print \"\u6700\u53d7\u6b22\u8fce\u768410\u4e2a\u7528\u6237\uff1a\", popular_users[:10]"
     ],
     "language": "python",
     "metadata": {},
     "outputs": [
      {
       "output_type": "stream",
       "stream": "stdout",
       "text": [
        "KellyChan(u)\n",
        "mhoeber(u)\n",
        "cycomachead(u)\n",
        "rjgrubb(u)\n",
        "jhendersonedx(u)\n",
        "theuserofshift8(u)\n",
        "martinproject(u)\n",
        "rwanyoike(u)\n",
        "duduOliver(u)\n",
        "ghoster(u)\n",
        "elitelinux(u)\n",
        "lamagnifica(u)\n",
        "foxty(u)\n",
        "Petruzzo79(u)\n",
        "bitifirefly(u)\n",
        "jmeers(u)\n",
        "sitdh(u)\n",
        "Natshah(u)\n",
        "igour(u)\n",
        "wxb0712(u)\n",
        "afeef(u)\n",
        "xrzhao(u)\n",
        "applecool(u)\n",
        "michelmb(u)\n",
        "andersonresende(u)\n",
        "conroyiwhiwhu(u)\n",
        "jacklee007(u)\n",
        "gsw945(u)\n",
        "Ginagie(u)\n",
        "\u6b63\u5728\u5904\u7406\u7b2c"
       ]
      },
      {
       "output_type": "stream",
       "stream": "stdout",
       "text": [
        " 1  \u4e2a\u5173\u6ce8\u8005\u3002\n",
        "\u6b63\u5728\u5904\u7406\u7b2c"
       ]
      },
      {
       "output_type": "stream",
       "stream": "stdout",
       "text": [
        " 2  \u4e2a\u5173\u6ce8\u8005\u3002\n",
        "\u6b63\u5728\u5904\u7406\u7b2c"
       ]
      },
      {
       "output_type": "stream",
       "stream": "stdout",
       "text": [
        " 3  \u4e2a\u5173\u6ce8\u8005\u3002\n",
        "\u6b63\u5728\u5904\u7406\u7b2c"
       ]
      },
      {
       "output_type": "stream",
       "stream": "stdout",
       "text": [
        " 4  \u4e2a\u5173\u6ce8\u8005\u3002\n",
        "\u6b63\u5728\u5904\u7406\u7b2c"
       ]
      },
      {
       "output_type": "stream",
       "stream": "stdout",
       "text": [
        " 5  \u4e2a\u5173\u6ce8\u8005\u3002\n",
        "\u6b63\u5728\u5904\u7406\u7b2c"
       ]
      },
      {
       "output_type": "stream",
       "stream": "stdout",
       "text": [
        " 6  \u4e2a\u5173\u6ce8\u8005\u3002\n",
        "\u6b63\u5728\u5904\u7406\u7b2c"
       ]
      },
      {
       "output_type": "stream",
       "stream": "stdout",
       "text": [
        " 7  \u4e2a\u5173\u6ce8\u8005\u3002\n",
        "\u6b63\u5728\u5904\u7406\u7b2c"
       ]
      },
      {
       "output_type": "stream",
       "stream": "stdout",
       "text": [
        " 8  \u4e2a\u5173\u6ce8\u8005\u3002\n",
        "\u6b63\u5728\u5904\u7406\u7b2c"
       ]
      },
      {
       "output_type": "stream",
       "stream": "stdout",
       "text": [
        " 9  \u4e2a\u5173\u6ce8\u8005\u3002\n",
        "\u6b63\u5728\u5904\u7406\u7b2c"
       ]
      },
      {
       "output_type": "stream",
       "stream": "stdout",
       "text": [
        " 10  \u4e2a\u5173\u6ce8\u8005\u3002\n",
        "\u6b63\u5728\u5904\u7406\u7b2c"
       ]
      },
      {
       "output_type": "stream",
       "stream": "stdout",
       "text": [
        " 11  \u4e2a\u5173\u6ce8\u8005\u3002\n",
        "\u6b63\u5728\u5904\u7406\u7b2c"
       ]
      },
      {
       "output_type": "stream",
       "stream": "stdout",
       "text": [
        " 12  \u4e2a\u5173\u6ce8\u8005\u3002\n",
        "\u6b63\u5728\u5904\u7406\u7b2c"
       ]
      },
      {
       "output_type": "stream",
       "stream": "stdout",
       "text": [
        " 13  \u4e2a\u5173\u6ce8\u8005\u3002\n",
        "\u6b63\u5728\u5904\u7406\u7b2c"
       ]
      },
      {
       "output_type": "stream",
       "stream": "stdout",
       "text": [
        " 14  \u4e2a\u5173\u6ce8\u8005\u3002\n",
        "\u6b63\u5728\u5904\u7406\u7b2c"
       ]
      },
      {
       "output_type": "stream",
       "stream": "stdout",
       "text": [
        " 15  \u4e2a\u5173\u6ce8\u8005\u3002\n",
        "\u6b63\u5728\u5904\u7406\u7b2c"
       ]
      },
      {
       "output_type": "stream",
       "stream": "stdout",
       "text": [
        " 16  \u4e2a\u5173\u6ce8\u8005\u3002\n",
        "\u6b63\u5728\u5904\u7406\u7b2c"
       ]
      },
      {
       "output_type": "stream",
       "stream": "stdout",
       "text": [
        " 17  \u4e2a\u5173\u6ce8\u8005\u3002\n",
        "\u6b63\u5728\u5904\u7406\u7b2c"
       ]
      },
      {
       "output_type": "stream",
       "stream": "stdout",
       "text": [
        " 18  \u4e2a\u5173\u6ce8\u8005\u3002\n",
        "\u6b63\u5728\u5904\u7406\u7b2c"
       ]
      },
      {
       "output_type": "stream",
       "stream": "stdout",
       "text": [
        " 19  \u4e2a\u5173\u6ce8\u8005\u3002\n",
        "\u6b63\u5728\u5904\u7406\u7b2c"
       ]
      },
      {
       "output_type": "stream",
       "stream": "stdout",
       "text": [
        " 20  \u4e2a\u5173\u6ce8\u8005\u3002\n",
        "\u6b63\u5728\u5904\u7406\u7b2c"
       ]
      },
      {
       "output_type": "stream",
       "stream": "stdout",
       "text": [
        " 21  \u4e2a\u5173\u6ce8\u8005\u3002\n",
        "\u6b63\u5728\u5904\u7406\u7b2c"
       ]
      },
      {
       "output_type": "stream",
       "stream": "stdout",
       "text": [
        " 22  \u4e2a\u5173\u6ce8\u8005\u3002\n",
        "\u6b63\u5728\u5904\u7406\u7b2c"
       ]
      },
      {
       "output_type": "stream",
       "stream": "stdout",
       "text": [
        " 23  \u4e2a\u5173\u6ce8\u8005\u3002\n",
        "\u6b63\u5728\u5904\u7406\u7b2c"
       ]
      },
      {
       "output_type": "stream",
       "stream": "stdout",
       "text": [
        " 24  \u4e2a\u5173\u6ce8\u8005\u3002\n",
        "\u6b63\u5728\u5904\u7406\u7b2c"
       ]
      },
      {
       "output_type": "stream",
       "stream": "stdout",
       "text": [
        " 25  \u4e2a\u5173\u6ce8\u8005\u3002\n",
        "\u6b63\u5728\u5904\u7406\u7b2c"
       ]
      },
      {
       "output_type": "stream",
       "stream": "stdout",
       "text": [
        " 26  \u4e2a\u5173\u6ce8\u8005\u3002\n",
        "\u6b63\u5728\u5904\u7406\u7b2c"
       ]
      },
      {
       "output_type": "stream",
       "stream": "stdout",
       "text": [
        " 27  \u4e2a\u5173\u6ce8\u8005\u3002\n",
        "\u6b63\u5728\u5904\u7406\u7b2c"
       ]
      },
      {
       "output_type": "stream",
       "stream": "stdout",
       "text": [
        " 28  \u4e2a\u5173\u6ce8\u8005\u3002\n",
        "\u6b63\u5728\u5904\u7406\u7b2c"
       ]
      },
      {
       "output_type": "stream",
       "stream": "stdout",
       "text": [
        " 29  \u4e2a\u5173\u6ce8\u8005\u3002\n"
       ]
      }
     ],
     "prompt_number": 11
    },
    {
     "cell_type": "code",
     "collapsed": false,
     "input": [
      "    MAX_REPOS = 500\n",
      "\n",
      "    for i, sg in enumerate(stargazers):\n",
      "        print sg.login\n",
      "        try:\n",
      "            for starred in sg.get_starred()[:MAX_REPOS]: # Slice to avoid supernodes\n",
      "                g.add_node(starred.name + '(r)', type='repo', lang=starred.language, owner=starred.owner.login)\n",
      "                g.add_edge(sg.login + '(u)', starred.name + '(r)', type='gazes')\n",
      "        except Exception, e: #ssl.SSLError:\n",
      "            print \"\u83b7\u53d6\u52a0\u661f\u4ed3\u5e93\u5931\u8d25\u3000\", sg.login, \"\u8df3\u8fc7.\"\n",
      "\n",
      "        print \"\u6b63\u5728\u5904\u7406\", i+1, \"\u52a0\u661f\u7684\u4ed3\u5e93\"\n",
      "    filename = \"1.1\"\n",
      "    nx.write_gpickle(g, filename)\n",
      "\n",
      "    d = json_graph.node_link_data(g)\n",
      "    filename = \"1.json\"\n",
      "    json.dump(d, open(filename, 'w'))"
     ],
     "language": "python",
     "metadata": {},
     "outputs": [
      {
       "output_type": "stream",
       "stream": "stdout",
       "text": [
        "KellyChan\n",
        "\u6b63\u5728\u5904\u7406"
       ]
      },
      {
       "output_type": "stream",
       "stream": "stdout",
       "text": [
        " 1 \u52a0\u661f\u7684\u4ed3\u5e93\n",
        "mhoeber\n",
        "\u6b63\u5728\u5904\u7406"
       ]
      },
      {
       "output_type": "stream",
       "stream": "stdout",
       "text": [
        " 2 \u52a0\u661f\u7684\u4ed3\u5e93\n",
        "cycomachead\n",
        "\u6b63\u5728\u5904\u7406"
       ]
      },
      {
       "output_type": "stream",
       "stream": "stdout",
       "text": [
        " 3 \u52a0\u661f\u7684\u4ed3\u5e93\n",
        "rjgrubb\n",
        "\u6b63\u5728\u5904\u7406"
       ]
      },
      {
       "output_type": "stream",
       "stream": "stdout",
       "text": [
        " 4 \u52a0\u661f\u7684\u4ed3\u5e93\n",
        "jhendersonedx\n",
        "\u6b63\u5728\u5904\u7406"
       ]
      },
      {
       "output_type": "stream",
       "stream": "stdout",
       "text": [
        " 5 \u52a0\u661f\u7684\u4ed3\u5e93\n",
        "theuserofshift8\n",
        "\u6b63\u5728\u5904\u7406"
       ]
      },
      {
       "output_type": "stream",
       "stream": "stdout",
       "text": [
        " 6 \u52a0\u661f\u7684\u4ed3\u5e93\n",
        "martinproject\n",
        "\u6b63\u5728\u5904\u7406"
       ]
      },
      {
       "output_type": "stream",
       "stream": "stdout",
       "text": [
        " 7 \u52a0\u661f\u7684\u4ed3\u5e93\n",
        "rwanyoike\n",
        "\u6b63\u5728\u5904\u7406"
       ]
      },
      {
       "output_type": "stream",
       "stream": "stdout",
       "text": [
        " 8 \u52a0\u661f\u7684\u4ed3\u5e93\n",
        "duduOliver\n",
        "\u6b63\u5728\u5904\u7406"
       ]
      },
      {
       "output_type": "stream",
       "stream": "stdout",
       "text": [
        " 9 \u52a0\u661f\u7684\u4ed3\u5e93\n",
        "ghoster\n",
        "\u6b63\u5728\u5904\u7406"
       ]
      },
      {
       "output_type": "stream",
       "stream": "stdout",
       "text": [
        " 10 \u52a0\u661f\u7684\u4ed3\u5e93\n",
        "elitelinux\n",
        "\u6b63\u5728\u5904\u7406"
       ]
      },
      {
       "output_type": "stream",
       "stream": "stdout",
       "text": [
        " 11 \u52a0\u661f\u7684\u4ed3\u5e93\n",
        "lamagnifica\n",
        "\u6b63\u5728\u5904\u7406"
       ]
      },
      {
       "output_type": "stream",
       "stream": "stdout",
       "text": [
        " 12 \u52a0\u661f\u7684\u4ed3\u5e93\n",
        "foxty\n",
        "\u6b63\u5728\u5904\u7406"
       ]
      },
      {
       "output_type": "stream",
       "stream": "stdout",
       "text": [
        " 13 \u52a0\u661f\u7684\u4ed3\u5e93\n",
        "Petruzzo79\n",
        "\u6b63\u5728\u5904\u7406"
       ]
      },
      {
       "output_type": "stream",
       "stream": "stdout",
       "text": [
        " 14 \u52a0\u661f\u7684\u4ed3\u5e93\n",
        "bitifirefly\n",
        "\u6b63\u5728\u5904\u7406"
       ]
      },
      {
       "output_type": "stream",
       "stream": "stdout",
       "text": [
        " 15 \u52a0\u661f\u7684\u4ed3\u5e93\n",
        "jmeers\n",
        "\u6b63\u5728\u5904\u7406"
       ]
      },
      {
       "output_type": "stream",
       "stream": "stdout",
       "text": [
        " 16 \u52a0\u661f\u7684\u4ed3\u5e93\n",
        "sitdh\n",
        "\u6b63\u5728\u5904\u7406"
       ]
      },
      {
       "output_type": "stream",
       "stream": "stdout",
       "text": [
        " 17 \u52a0\u661f\u7684\u4ed3\u5e93\n",
        "Natshah\n",
        "\u6b63\u5728\u5904\u7406"
       ]
      },
      {
       "output_type": "stream",
       "stream": "stdout",
       "text": [
        " 18 \u52a0\u661f\u7684\u4ed3\u5e93\n",
        "igour\n",
        "\u6b63\u5728\u5904\u7406"
       ]
      },
      {
       "output_type": "stream",
       "stream": "stdout",
       "text": [
        " 19 \u52a0\u661f\u7684\u4ed3\u5e93\n",
        "wxb0712\n",
        "\u6b63\u5728\u5904\u7406"
       ]
      },
      {
       "output_type": "stream",
       "stream": "stdout",
       "text": [
        " 20 \u52a0\u661f\u7684\u4ed3\u5e93\n",
        "afeef\n",
        "\u6b63\u5728\u5904\u7406"
       ]
      },
      {
       "output_type": "stream",
       "stream": "stdout",
       "text": [
        " 21 \u52a0\u661f\u7684\u4ed3\u5e93\n",
        "xrzhao\n",
        "\u6b63\u5728\u5904\u7406"
       ]
      },
      {
       "output_type": "stream",
       "stream": "stdout",
       "text": [
        " 22 \u52a0\u661f\u7684\u4ed3\u5e93\n",
        "applecool\n",
        "\u6b63\u5728\u5904\u7406"
       ]
      },
      {
       "output_type": "stream",
       "stream": "stdout",
       "text": [
        " 23 \u52a0\u661f\u7684\u4ed3\u5e93\n",
        "michelmb\n",
        "\u6b63\u5728\u5904\u7406"
       ]
      },
      {
       "output_type": "stream",
       "stream": "stdout",
       "text": [
        " 24 \u52a0\u661f\u7684\u4ed3\u5e93\n",
        "andersonresende\n",
        "\u6b63\u5728\u5904\u7406"
       ]
      },
      {
       "output_type": "stream",
       "stream": "stdout",
       "text": [
        " 25 \u52a0\u661f\u7684\u4ed3\u5e93\n",
        "conroyiwhiwhu\n",
        "\u6b63\u5728\u5904\u7406"
       ]
      },
      {
       "output_type": "stream",
       "stream": "stdout",
       "text": [
        " 26 \u52a0\u661f\u7684\u4ed3\u5e93\n",
        "jacklee007\n",
        "\u6b63\u5728\u5904\u7406"
       ]
      },
      {
       "output_type": "stream",
       "stream": "stdout",
       "text": [
        " 27 \u52a0\u661f\u7684\u4ed3\u5e93\n",
        "gsw945\n",
        "\u6b63\u5728\u5904\u7406"
       ]
      },
      {
       "output_type": "stream",
       "stream": "stdout",
       "text": [
        " 28 \u52a0\u661f\u7684\u4ed3\u5e93\n",
        "Ginagie\n",
        "\u6b63\u5728\u5904\u7406"
       ]
      },
      {
       "output_type": "stream",
       "stream": "stdout",
       "text": [
        " 29 \u52a0\u661f\u7684\u4ed3\u5e93\n"
       ]
      }
     ],
     "prompt_number": 12
    },
    {
     "cell_type": "code",
     "collapsed": false,
     "input": [
      "g = nx.read_gpickle(\"1.1\")"
     ],
     "language": "python",
     "metadata": {},
     "outputs": [
      {
       "output_type": "stream",
       "stream": "stdout",
       "text": [
        "Name: \n",
        "Type: DiGraph\n",
        "Number of nodes: 3383\n",
        "Number of edges: 3733\n",
        "Average in degree:   1.1035\n",
        "Average out degree:   1.1035\n",
        "{}\n"
       ]
      }
     ],
     "prompt_number": 17
    },
    {
     "cell_type": "code",
     "collapsed": false,
     "input": [
      "print nx.info(g)\n",
      "data = {}\n",
      "for n in g.nodes_iter():\n",
      "    if (g.node[n]['type'] == 'repo' and g.node[n]['lang'] not in data and g.node[n]['lang']):\n",
      "        data[ g.node[n]['lang']] = 1\n",
      "    elif (g.node[n]['type'] == 'repo' and g.node[n]['lang'] in data and g.node[n]['lang']) :\n",
      "        data[ g.node[n]['lang']] = data[ g.node[n]['lang']]+ 1\n",
      "    else:\n",
      "        pass\n",
      "sumRepo = sum([v for k,v in data.iteritems()])\n",
      "data1 =  sorted(data.iteritems(), key=lambda d:d[1], reverse = True )[:9]#\u6392\u5e8f\u8f93\u51fa\n",
      "others = 0\n",
      "for v in data1:\n",
      "    others = others + v[1]\n",
      "others =  sumRepo - others\n",
      "dothers = [unicode('others', \"UTF-8\"),others]\n",
      "data1.append(dothers)\n",
      "print sumRepo\n",
      "print others\n",
      "print data1\n",
      "json.dump(data1, open('1.1.pie', 'w'))"
     ],
     "language": "python",
     "metadata": {},
     "outputs": [
      {
       "output_type": "stream",
       "stream": "stdout",
       "text": [
        "Name: \n",
        "Type: DiGraph\n",
        "Number of nodes: 3383\n",
        "Number of edges: 3733\n",
        "Average in degree:   1.1035\n",
        "Average out degree:   1.1035\n",
        "3146\n",
        "658\n",
        "[(u'JavaScript', 786), (u'Python', 502), (u'Ruby', 247), (u'Java', 234), (u'PHP', 212), (u'C', 133), (u'CSS', 130), (u'HTML', 128), (u'Erlang', 116), [u'others', 658]]\n"
       ]
      }
     ],
     "prompt_number": 92
    },
    {
     "cell_type": "code",
     "collapsed": false,
     "input": [],
     "language": "python",
     "metadata": {},
     "outputs": [],
     "prompt_number": 58
    },
    {
     "cell_type": "code",
     "collapsed": false,
     "input": [],
     "language": "python",
     "metadata": {},
     "outputs": []
    }
   ],
   "metadata": {}
  }
 ]
}